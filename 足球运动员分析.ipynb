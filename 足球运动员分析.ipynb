{
 "cells": [
  {
   "cell_type": "markdown",
   "metadata": {},
   "source": [
    "# 足球运动员分析\n",
    "## 背景信息\n",
    "当前，足球运动是最受欢迎的运动之一（也可以说没有之一）。"
   ]
  },
  {
   "cell_type": "markdown",
   "metadata": {},
   "source": [
    "## 任务说明\n",
    "我们的任务，就是在众多的足球运动员中，发现统计一些关于足球运动员的共性，或某些潜在的规律。"
   ]
  },
  {
   "cell_type": "markdown",
   "metadata": {},
   "source": [
    "## 数据集描述\n",
    "数据集包含的是2017年所有活跃的足球运动员。\n",
    "* Name 姓名\n",
    "* Nationality 国籍\n",
    "* National_Position 国家队位置\n",
    "* National_Kit 国家队号码\n",
    "* Club 所在俱乐部\n",
    "* Club_Position 所在俱乐部位置\n",
    "* Club_Kit 俱乐部号码\n",
    "* Club_Joining 加入俱乐部时间\n",
    "* Contract_Expiry 合同到期时间\n",
    "* Rating 评分\n",
    "* Height 身高\n",
    "* Weight 体重\n",
    "* Preffered_Foot 擅长左（右）脚\n",
    "* Birth_Date 出生日期\n",
    "* Age 年龄\n",
    "* Preffered_Position 擅长位置\n",
    "* Work_Rate 工作效率\n",
    "* Weak_foot 非惯用脚使用频率\n",
    "* Skill_Moves 技术等级\n",
    "* Ball_Control 控球技术\n",
    "* Dribbling 盘球（带球）能力\n",
    "* Marking 盯人能力\n",
    "* Sliding_Tackle 铲球\n",
    "* Standing_Tackle 逼抢能力\n",
    "* Aggression 攻击能力\n",
    "* Reactions 反击\n",
    "* Attacking_Position 攻击性跑位\n",
    "* Interceptions 抢断\n",
    "* Vision 视野\n",
    "* Composure 镇静\n",
    "* Crossing 下底传中\n",
    "* Short_Pass 短传\n",
    "* Long_Pass 长传\n",
    "* Acceleration 加速度\n",
    "* Speed 速度\n",
    "* Stamina 体力\n",
    "* Strength 强壮\n",
    "* Balance 平衡\n",
    "* Agility 敏捷度\n",
    "* Jumping 跳跃\n",
    "* Heading 投球\n",
    "* Shot_Power 射门力量\n",
    "* Finishing 射门\n",
    "* Long_Shots 远射\n",
    "* Curve 弧线\n",
    "* Freekick_Accuracy 任意球精准度\n",
    "* Penalties 点球\n",
    "* Volleys 凌空能力\n",
    "* GK_Positioning 门将位置感\n",
    "* GK_Diving 扑救能力\n",
    "* GK_Kicking 门将踢球能力\n",
    "* GK_Handling 扑球脱手几率\n",
    "* GK_Reflexes 门将反应度"
   ]
  },
  {
   "cell_type": "markdown",
   "metadata": {},
   "source": [
    "# 程序实现\n",
    "## 导入相关的库\n",
    "导入需要的库，同时，进行一些初始化的设置。"
   ]
  },
  {
   "cell_type": "code",
   "execution_count": 1,
   "metadata": {},
   "outputs": [],
   "source": [
    "import numpy as np\n",
    "import pandas as pd\n",
    "import matplotlib as mpl\n",
    "import matplotlib.pyplot as plt\n",
    "mpl.rcParams[\"font.family\"] = \"SimHei\"\n",
    "mpl.rcParams[\"axes.unicode_minus\"] = False"
   ]
  },
  {
   "cell_type": "markdown",
   "metadata": {},
   "source": [
    "## 加载相关的数据集\n",
    "* 加载相关的数据集（注意原数据集中是否存在标题），并查看数据的大致情况。\n",
    "* 可以使用head / tail，也可以使用sample。\n",
    "* 列没有显式完整，我们需要进行设置。（pd.set_option）"
   ]
  },
  {
   "cell_type": "code",
   "execution_count": 2,
   "metadata": {},
   "outputs": [
    {
     "data": {
      "text/html": [
       "<div>\n",
       "<style scoped>\n",
       "    .dataframe tbody tr th:only-of-type {\n",
       "        vertical-align: middle;\n",
       "    }\n",
       "\n",
       "    .dataframe tbody tr th {\n",
       "        vertical-align: top;\n",
       "    }\n",
       "\n",
       "    .dataframe thead th {\n",
       "        text-align: right;\n",
       "    }\n",
       "</style>\n",
       "<table border=\"1\" class=\"dataframe\">\n",
       "  <thead>\n",
       "    <tr style=\"text-align: right;\">\n",
       "      <th></th>\n",
       "      <th>Name</th>\n",
       "      <th>Nationality</th>\n",
       "      <th>National_Position</th>\n",
       "      <th>National_Kit</th>\n",
       "      <th>Club</th>\n",
       "      <th>Club_Position</th>\n",
       "      <th>Club_Kit</th>\n",
       "      <th>Club_Joining</th>\n",
       "      <th>Contract_Expiry</th>\n",
       "      <th>Rating</th>\n",
       "      <th>Height</th>\n",
       "      <th>Weight</th>\n",
       "      <th>Preffered_Foot</th>\n",
       "      <th>Birth_Date</th>\n",
       "      <th>Age</th>\n",
       "      <th>Preffered_Position</th>\n",
       "      <th>Work_Rate</th>\n",
       "      <th>Weak_foot</th>\n",
       "      <th>Skill_Moves</th>\n",
       "      <th>Ball_Control</th>\n",
       "      <th>Dribbling</th>\n",
       "      <th>Marking</th>\n",
       "      <th>Sliding_Tackle</th>\n",
       "      <th>Standing_Tackle</th>\n",
       "      <th>Aggression</th>\n",
       "      <th>Reactions</th>\n",
       "      <th>Attacking_Position</th>\n",
       "      <th>Interceptions</th>\n",
       "      <th>Vision</th>\n",
       "      <th>Composure</th>\n",
       "      <th>Crossing</th>\n",
       "      <th>Short_Pass</th>\n",
       "      <th>Long_Pass</th>\n",
       "      <th>Acceleration</th>\n",
       "      <th>Speed</th>\n",
       "      <th>Stamina</th>\n",
       "      <th>Strength</th>\n",
       "      <th>Balance</th>\n",
       "      <th>Agility</th>\n",
       "      <th>Jumping</th>\n",
       "      <th>Heading</th>\n",
       "      <th>Shot_Power</th>\n",
       "      <th>Finishing</th>\n",
       "      <th>Long_Shots</th>\n",
       "      <th>Curve</th>\n",
       "      <th>Freekick_Accuracy</th>\n",
       "      <th>Penalties</th>\n",
       "      <th>Volleys</th>\n",
       "      <th>GK_Positioning</th>\n",
       "      <th>GK_Diving</th>\n",
       "      <th>GK_Kicking</th>\n",
       "      <th>GK_Handling</th>\n",
       "      <th>GK_Reflexes</th>\n",
       "    </tr>\n",
       "  </thead>\n",
       "  <tbody>\n",
       "    <tr>\n",
       "      <th>0</th>\n",
       "      <td>Cristiano Ronaldo</td>\n",
       "      <td>Portugal</td>\n",
       "      <td>LS</td>\n",
       "      <td>7.0</td>\n",
       "      <td>Real Madrid</td>\n",
       "      <td>LW</td>\n",
       "      <td>7.0</td>\n",
       "      <td>07/01/2009</td>\n",
       "      <td>2021.0</td>\n",
       "      <td>94</td>\n",
       "      <td>185 cm</td>\n",
       "      <td>80 kg</td>\n",
       "      <td>Right</td>\n",
       "      <td>02/05/1985</td>\n",
       "      <td>32</td>\n",
       "      <td>LW/ST</td>\n",
       "      <td>High / Low</td>\n",
       "      <td>4</td>\n",
       "      <td>5</td>\n",
       "      <td>93</td>\n",
       "      <td>92</td>\n",
       "      <td>22</td>\n",
       "      <td>23</td>\n",
       "      <td>31</td>\n",
       "      <td>63</td>\n",
       "      <td>96</td>\n",
       "      <td>94</td>\n",
       "      <td>29</td>\n",
       "      <td>85</td>\n",
       "      <td>86</td>\n",
       "      <td>84</td>\n",
       "      <td>83</td>\n",
       "      <td>77</td>\n",
       "      <td>91</td>\n",
       "      <td>92</td>\n",
       "      <td>92</td>\n",
       "      <td>80</td>\n",
       "      <td>63</td>\n",
       "      <td>90</td>\n",
       "      <td>95</td>\n",
       "      <td>85</td>\n",
       "      <td>92</td>\n",
       "      <td>93</td>\n",
       "      <td>90</td>\n",
       "      <td>81</td>\n",
       "      <td>76</td>\n",
       "      <td>85</td>\n",
       "      <td>88</td>\n",
       "      <td>14</td>\n",
       "      <td>7</td>\n",
       "      <td>15</td>\n",
       "      <td>11</td>\n",
       "      <td>11</td>\n",
       "    </tr>\n",
       "    <tr>\n",
       "      <th>1</th>\n",
       "      <td>Lionel Messi</td>\n",
       "      <td>Argentina</td>\n",
       "      <td>RW</td>\n",
       "      <td>10.0</td>\n",
       "      <td>FC Barcelona</td>\n",
       "      <td>RW</td>\n",
       "      <td>10.0</td>\n",
       "      <td>07/01/2004</td>\n",
       "      <td>2018.0</td>\n",
       "      <td>93</td>\n",
       "      <td>170 cm</td>\n",
       "      <td>72 kg</td>\n",
       "      <td>Left</td>\n",
       "      <td>06/24/1987</td>\n",
       "      <td>29</td>\n",
       "      <td>RW</td>\n",
       "      <td>Medium / Medium</td>\n",
       "      <td>4</td>\n",
       "      <td>4</td>\n",
       "      <td>95</td>\n",
       "      <td>97</td>\n",
       "      <td>13</td>\n",
       "      <td>26</td>\n",
       "      <td>28</td>\n",
       "      <td>48</td>\n",
       "      <td>95</td>\n",
       "      <td>93</td>\n",
       "      <td>22</td>\n",
       "      <td>90</td>\n",
       "      <td>94</td>\n",
       "      <td>77</td>\n",
       "      <td>88</td>\n",
       "      <td>87</td>\n",
       "      <td>92</td>\n",
       "      <td>87</td>\n",
       "      <td>74</td>\n",
       "      <td>59</td>\n",
       "      <td>95</td>\n",
       "      <td>90</td>\n",
       "      <td>68</td>\n",
       "      <td>71</td>\n",
       "      <td>85</td>\n",
       "      <td>95</td>\n",
       "      <td>88</td>\n",
       "      <td>89</td>\n",
       "      <td>90</td>\n",
       "      <td>74</td>\n",
       "      <td>85</td>\n",
       "      <td>14</td>\n",
       "      <td>6</td>\n",
       "      <td>15</td>\n",
       "      <td>11</td>\n",
       "      <td>8</td>\n",
       "    </tr>\n",
       "    <tr>\n",
       "      <th>2</th>\n",
       "      <td>Neymar</td>\n",
       "      <td>Brazil</td>\n",
       "      <td>LW</td>\n",
       "      <td>10.0</td>\n",
       "      <td>FC Barcelona</td>\n",
       "      <td>LW</td>\n",
       "      <td>11.0</td>\n",
       "      <td>07/01/2013</td>\n",
       "      <td>2021.0</td>\n",
       "      <td>92</td>\n",
       "      <td>174 cm</td>\n",
       "      <td>68 kg</td>\n",
       "      <td>Right</td>\n",
       "      <td>02/05/1992</td>\n",
       "      <td>25</td>\n",
       "      <td>LW</td>\n",
       "      <td>High / Medium</td>\n",
       "      <td>5</td>\n",
       "      <td>5</td>\n",
       "      <td>95</td>\n",
       "      <td>96</td>\n",
       "      <td>21</td>\n",
       "      <td>33</td>\n",
       "      <td>24</td>\n",
       "      <td>56</td>\n",
       "      <td>88</td>\n",
       "      <td>90</td>\n",
       "      <td>36</td>\n",
       "      <td>80</td>\n",
       "      <td>80</td>\n",
       "      <td>75</td>\n",
       "      <td>81</td>\n",
       "      <td>75</td>\n",
       "      <td>93</td>\n",
       "      <td>90</td>\n",
       "      <td>79</td>\n",
       "      <td>49</td>\n",
       "      <td>82</td>\n",
       "      <td>96</td>\n",
       "      <td>61</td>\n",
       "      <td>62</td>\n",
       "      <td>78</td>\n",
       "      <td>89</td>\n",
       "      <td>77</td>\n",
       "      <td>79</td>\n",
       "      <td>84</td>\n",
       "      <td>81</td>\n",
       "      <td>83</td>\n",
       "      <td>15</td>\n",
       "      <td>9</td>\n",
       "      <td>15</td>\n",
       "      <td>9</td>\n",
       "      <td>11</td>\n",
       "    </tr>\n",
       "    <tr>\n",
       "      <th>3</th>\n",
       "      <td>Luis Suárez</td>\n",
       "      <td>Uruguay</td>\n",
       "      <td>LS</td>\n",
       "      <td>9.0</td>\n",
       "      <td>FC Barcelona</td>\n",
       "      <td>ST</td>\n",
       "      <td>9.0</td>\n",
       "      <td>07/11/2014</td>\n",
       "      <td>2021.0</td>\n",
       "      <td>92</td>\n",
       "      <td>182 cm</td>\n",
       "      <td>85 kg</td>\n",
       "      <td>Right</td>\n",
       "      <td>01/24/1987</td>\n",
       "      <td>30</td>\n",
       "      <td>ST</td>\n",
       "      <td>High / Medium</td>\n",
       "      <td>4</td>\n",
       "      <td>4</td>\n",
       "      <td>91</td>\n",
       "      <td>86</td>\n",
       "      <td>30</td>\n",
       "      <td>38</td>\n",
       "      <td>45</td>\n",
       "      <td>78</td>\n",
       "      <td>93</td>\n",
       "      <td>92</td>\n",
       "      <td>41</td>\n",
       "      <td>84</td>\n",
       "      <td>83</td>\n",
       "      <td>77</td>\n",
       "      <td>83</td>\n",
       "      <td>64</td>\n",
       "      <td>88</td>\n",
       "      <td>77</td>\n",
       "      <td>89</td>\n",
       "      <td>76</td>\n",
       "      <td>60</td>\n",
       "      <td>86</td>\n",
       "      <td>69</td>\n",
       "      <td>77</td>\n",
       "      <td>87</td>\n",
       "      <td>94</td>\n",
       "      <td>86</td>\n",
       "      <td>86</td>\n",
       "      <td>84</td>\n",
       "      <td>85</td>\n",
       "      <td>88</td>\n",
       "      <td>33</td>\n",
       "      <td>27</td>\n",
       "      <td>31</td>\n",
       "      <td>25</td>\n",
       "      <td>37</td>\n",
       "    </tr>\n",
       "    <tr>\n",
       "      <th>4</th>\n",
       "      <td>Manuel Neuer</td>\n",
       "      <td>Germany</td>\n",
       "      <td>GK</td>\n",
       "      <td>1.0</td>\n",
       "      <td>FC Bayern</td>\n",
       "      <td>GK</td>\n",
       "      <td>1.0</td>\n",
       "      <td>07/01/2011</td>\n",
       "      <td>2021.0</td>\n",
       "      <td>92</td>\n",
       "      <td>193 cm</td>\n",
       "      <td>92 kg</td>\n",
       "      <td>Right</td>\n",
       "      <td>03/27/1986</td>\n",
       "      <td>31</td>\n",
       "      <td>GK</td>\n",
       "      <td>Medium / Medium</td>\n",
       "      <td>4</td>\n",
       "      <td>1</td>\n",
       "      <td>48</td>\n",
       "      <td>30</td>\n",
       "      <td>10</td>\n",
       "      <td>11</td>\n",
       "      <td>10</td>\n",
       "      <td>29</td>\n",
       "      <td>85</td>\n",
       "      <td>12</td>\n",
       "      <td>30</td>\n",
       "      <td>70</td>\n",
       "      <td>70</td>\n",
       "      <td>15</td>\n",
       "      <td>55</td>\n",
       "      <td>59</td>\n",
       "      <td>58</td>\n",
       "      <td>61</td>\n",
       "      <td>44</td>\n",
       "      <td>83</td>\n",
       "      <td>35</td>\n",
       "      <td>52</td>\n",
       "      <td>78</td>\n",
       "      <td>25</td>\n",
       "      <td>25</td>\n",
       "      <td>13</td>\n",
       "      <td>16</td>\n",
       "      <td>14</td>\n",
       "      <td>11</td>\n",
       "      <td>47</td>\n",
       "      <td>11</td>\n",
       "      <td>91</td>\n",
       "      <td>89</td>\n",
       "      <td>95</td>\n",
       "      <td>90</td>\n",
       "      <td>89</td>\n",
       "    </tr>\n",
       "  </tbody>\n",
       "</table>\n",
       "</div>"
      ],
      "text/plain": [
       "                Name Nationality National_Position  National_Kit  \\\n",
       "0  Cristiano Ronaldo    Portugal                LS           7.0   \n",
       "1       Lionel Messi   Argentina                RW          10.0   \n",
       "2             Neymar      Brazil                LW          10.0   \n",
       "3        Luis Suárez     Uruguay                LS           9.0   \n",
       "4       Manuel Neuer     Germany                GK           1.0   \n",
       "\n",
       "           Club Club_Position  Club_Kit Club_Joining  Contract_Expiry  Rating  \\\n",
       "0   Real Madrid            LW       7.0   07/01/2009           2021.0      94   \n",
       "1  FC Barcelona            RW      10.0   07/01/2004           2018.0      93   \n",
       "2  FC Barcelona            LW      11.0   07/01/2013           2021.0      92   \n",
       "3  FC Barcelona            ST       9.0   07/11/2014           2021.0      92   \n",
       "4     FC Bayern            GK       1.0   07/01/2011           2021.0      92   \n",
       "\n",
       "   Height Weight Preffered_Foot  Birth_Date  Age Preffered_Position  \\\n",
       "0  185 cm  80 kg          Right  02/05/1985   32              LW/ST   \n",
       "1  170 cm  72 kg           Left  06/24/1987   29                 RW   \n",
       "2  174 cm  68 kg          Right  02/05/1992   25                 LW   \n",
       "3  182 cm  85 kg          Right  01/24/1987   30                 ST   \n",
       "4  193 cm  92 kg          Right  03/27/1986   31                 GK   \n",
       "\n",
       "         Work_Rate  Weak_foot  Skill_Moves  Ball_Control  Dribbling  Marking  \\\n",
       "0       High / Low          4            5            93         92       22   \n",
       "1  Medium / Medium          4            4            95         97       13   \n",
       "2    High / Medium          5            5            95         96       21   \n",
       "3    High / Medium          4            4            91         86       30   \n",
       "4  Medium / Medium          4            1            48         30       10   \n",
       "\n",
       "   Sliding_Tackle  Standing_Tackle  Aggression  Reactions  Attacking_Position  \\\n",
       "0              23               31          63         96                  94   \n",
       "1              26               28          48         95                  93   \n",
       "2              33               24          56         88                  90   \n",
       "3              38               45          78         93                  92   \n",
       "4              11               10          29         85                  12   \n",
       "\n",
       "   Interceptions  Vision  Composure  Crossing  Short_Pass  Long_Pass  \\\n",
       "0             29      85         86        84          83         77   \n",
       "1             22      90         94        77          88         87   \n",
       "2             36      80         80        75          81         75   \n",
       "3             41      84         83        77          83         64   \n",
       "4             30      70         70        15          55         59   \n",
       "\n",
       "   Acceleration  Speed  Stamina  Strength  Balance  Agility  Jumping  Heading  \\\n",
       "0            91     92       92        80       63       90       95       85   \n",
       "1            92     87       74        59       95       90       68       71   \n",
       "2            93     90       79        49       82       96       61       62   \n",
       "3            88     77       89        76       60       86       69       77   \n",
       "4            58     61       44        83       35       52       78       25   \n",
       "\n",
       "   Shot_Power  Finishing  Long_Shots  Curve  Freekick_Accuracy  Penalties  \\\n",
       "0          92         93          90     81                 76         85   \n",
       "1          85         95          88     89                 90         74   \n",
       "2          78         89          77     79                 84         81   \n",
       "3          87         94          86     86                 84         85   \n",
       "4          25         13          16     14                 11         47   \n",
       "\n",
       "   Volleys  GK_Positioning  GK_Diving  GK_Kicking  GK_Handling  GK_Reflexes  \n",
       "0       88              14          7          15           11           11  \n",
       "1       85              14          6          15           11            8  \n",
       "2       83              15          9          15            9           11  \n",
       "3       88              33         27          31           25           37  \n",
       "4       11              91         89          95           90           89  "
      ]
     },
     "execution_count": 2,
     "metadata": {},
     "output_type": "execute_result"
    }
   ],
   "source": [
    "data = pd.read_csv(\"FullData.csv\")\n",
    "# data.head()\n",
    "# data.sample()\n",
    "# 当列数较多时，默认情况下列不会显示完整。我们可以通过set_option方法来进行设置。\n",
    "pd.set_option(\"display.max_columns\", 100)\n",
    "data.head()"
   ]
  },
  {
   "cell_type": "markdown",
   "metadata": {},
   "source": [
    "## 数据探索与清洗\n",
    "### 缺失值处理\n",
    "* 通过inof查看缺失值信息（以及每列的类型信息）。\n",
    "* 可以通过isnull, any, dropna，fillna等方法结合使用，对缺失值进行处理。"
   ]
  },
  {
   "cell_type": "code",
   "execution_count": 3,
   "metadata": {},
   "outputs": [],
   "source": [
    "# data.info()\n",
    "# data[data[\"Club_Position\"].isnull()]\n",
    "# 过滤掉缺失值。\n",
    "data = data[data[\"Club_Position\"].notnull()]\n",
    "# data[\"Club_Position\"].isnull().any()"
   ]
  },
  {
   "cell_type": "markdown",
   "metadata": {},
   "source": [
    "### 异常值处理\n",
    "* 通过describe查看数值信息。\n",
    "* 可配合箱线图辅助。"
   ]
  },
  {
   "cell_type": "code",
   "execution_count": 4,
   "metadata": {},
   "outputs": [],
   "source": [
    "# data.describe()\n",
    "# data[[\"\", \"\"]].plot(kind=\"box\")"
   ]
  },
  {
   "cell_type": "markdown",
   "metadata": {},
   "source": [
    "### 重复值处理\n",
    "* 使用duplicate检查重复值。可配合keep参数进行调整。\n",
    "* 使用drop_duplicate删除重复值。"
   ]
  },
  {
   "cell_type": "code",
   "execution_count": 5,
   "metadata": {},
   "outputs": [],
   "source": [
    "# 没有重复值。\n",
    "# data.duplicated().any()\n",
    "# 如果存在重复值，则删除重复值。\n",
    "data.drop_duplicates(inplace=True)"
   ]
  },
  {
   "cell_type": "markdown",
   "metadata": {},
   "source": [
    "### 将身高与体重处理成数值类型，便于分析。\n"
   ]
  },
  {
   "cell_type": "code",
   "execution_count": 6,
   "metadata": {},
   "outputs": [],
   "source": [
    "# t = data.copy()\n",
    "# 注意：身高与体重是字符串类型，替换掉cm或kg之后，依然还是字符串类型，不会自动变成数值类型。\n",
    "# t[\"Height\"] = t[\"Height\"].apply(lambda x: x.replace(\"cm\", \"\")).astype(np.int32)\n",
    "# t[\"Weight\"] = t[\"Weight\"].apply(lambda x: x.replace(\"kg\", \"\")).astype(np.int32)\n",
    "# 也可以使用字符串矢量化运算来解决。\n",
    "# t[\"Height\"] = t[\"Height\"].str.replace(\"cm\", \"\").astype(np.int32)\n",
    "# t[\"Weight\"] = t[\"Weight\"].str.replace(\"kg\", \"\").astype(np.int32)\n",
    "data[\"Height\"] = data[\"Height\"].str.replace(\"cm\", \"\").astype(np.int32)\n",
    "data[\"Weight\"] = data[\"Weight\"].str.replace(\"kg\", \"\").astype(np.int32)"
   ]
  },
  {
   "cell_type": "markdown",
   "metadata": {},
   "source": [
    "### 运动员的身高，体重，评分信息分布。"
   ]
  },
  {
   "cell_type": "code",
   "execution_count": 7,
   "metadata": {},
   "outputs": [
    {
     "data": {
      "text/plain": [
       "<matplotlib.axes._subplots.AxesSubplot at 0x7f337d31e7f0>"
      ]
     },
     "execution_count": 7,
     "metadata": {},
     "output_type": "execute_result"
    },
    {
     "data": {
      "image/png": "[encoded data removed]",
      "text/plain": [
       "<Figure size 432x288 with 1 Axes>"
      ]
     },
     "metadata": {
      "needs_background": "light"
     },
     "output_type": "display_data"
    },
    {
     "data": {
      "image/png": "[encoded data removed]",
      "text/plain": [
       "<Figure size 432x288 with 1 Axes>"
      ]
     },
     "metadata": {
      "needs_background": "light"
     },
     "output_type": "display_data"
    }
   ],
   "source": [
    "# 直方图是离散的统计，核密度图是连续的统计。身高，体重，与评分服从正态分布。\n",
    "data[[\"Height\", \"Weight\", \"Rating\"]].plot(kind=\"hist\")\n",
    "data[[\"Height\", \"Weight\", \"Rating\"]].plot(kind=\"kde\")"
   ]
  },
  {
   "cell_type": "markdown",
   "metadata": {},
   "source": [
    "### 左脚与右脚选手在数量上是否存在偏差？"
   ]
  },
  {
   "cell_type": "code",
   "execution_count": 8,
   "metadata": {},
   "outputs": [
    {
     "data": {
      "text/plain": [
       "<matplotlib.axes._subplots.AxesSubplot at 0x7f337a806668>"
      ]
     },
     "execution_count": 8,
     "metadata": {},
     "output_type": "execute_result"
    },
    {
     "data": {
      "image/png": "[encoded data removed]",
      "text/plain": [
       "<Figure size 432x288 with 1 Axes>"
      ]
     },
     "metadata": {
      "needs_background": "light"
     },
     "output_type": "display_data"
    }
   ],
   "source": [
    "# 解决方法不止一种。\n",
    "# 1 通过分组，然后聚合统计。\n",
    "g = data.groupby(\"Preffered_Foot\")\n",
    "# g[\"Preffered_Foot\"].count().plot(kind=\"bar\")\n",
    "# 2 通过分组对象的size方法。\n",
    "# g.size().plot(kind=\"bar\")\n",
    "# 3 使用value_counts\n",
    "# value_counts 默认根据值数量，按降序来进行排列。\n",
    "# 我们可以通过ascending参数来控制升序还是降序。\n",
    "data[\"Preffered_Foot\"].value_counts(ascending=True).plot(kind=\"bar\")"
   ]
  },
  {
   "cell_type": "markdown",
   "metadata": {},
   "source": [
    "### 从球员平均评分上考虑，拥有top10评分能力的俱乐部 / 国家。【超过20人】"
   ]
  },
  {
   "cell_type": "code",
   "execution_count": 9,
   "metadata": {},
   "outputs": [
    {
     "data": {
      "text/plain": [
       "<matplotlib.axes._subplots.AxesSubplot at 0x7f337a806780>"
      ]
     },
     "execution_count": 9,
     "metadata": {},
     "output_type": "execute_result"
    },
    {
     "data": {
      "image/png": "[encoded data removed]",
      "text/plain": [
       "<Figure size 432x288 with 1 Axes>"
      ]
     },
     "metadata": {
      "needs_background": "light"
     },
     "output_type": "display_data"
    }
   ],
   "source": [
    "# 对俱乐部统计\n",
    "# g = data.groupby(\"Club\")\n",
    "# # g[\"Rating\"].mean().sort_values(ascending=False)\n",
    "# v = g[\"Rating\"].agg([\"mean\", \"count\"])\n",
    "# v = v[v[\"count\"] > 20]\n",
    "# v.sort_values(\"mean\", ascending=False).head(10).plot(kind=\"bar\")\n",
    "\n",
    "# 对国家队统计\n",
    "g = data.groupby(\"Nationality\")\n",
    "# g[\"Rating\"].mean().sort_values(ascending=False)\n",
    "v = g[\"Rating\"].agg([\"mean\", \"count\"])\n",
    "v = v[v[\"count\"] > 20]\n",
    "v.sort_values(\"mean\", ascending=False).head(10).plot(kind=\"bar\")"
   ]
  },
  {
   "cell_type": "markdown",
   "metadata": {},
   "source": [
    "### 哪个俱乐部拥有更多忠心的球员（5年及以上）？"
   ]
  },
  {
   "cell_type": "code",
   "execution_count": 12,
   "metadata": {},
   "outputs": [
    {
     "data": {
      "text/plain": [
       "<matplotlib.axes._subplots.AxesSubplot at 0x7f337a4b55c0>"
      ]
     },
     "execution_count": 12,
     "metadata": {},
     "output_type": "execute_result"
    },
    {
     "data": {
      "image/png": "[encoded data removed]",
      "text/plain": [
       "<Figure size 432x288 with 1 Axes>"
      ]
     },
     "metadata": {
      "needs_background": "light"
     },
     "output_type": "display_data"
    }
   ],
   "source": [
    "# 获取球员加入俱乐部的年份。\n",
    "year = data[\"Club_Joining\"].map(lambda x: x.split(\"/\")[-1]).astype(np.int)\n",
    "# 获取大于等于5年的球员。（同时，去掉自由身的球员）\n",
    "t = data[(2017 - year >= 5) & (data[\"Club\"] != \"Free Agents\")]\n",
    "# t.groupby(\"Club\").size()\n",
    "# t[\"Club\"].value_counts()\n",
    "t[\"Club\"].value_counts().head(10).plot(kind=\"bar\")"
   ]
  },
  {
   "cell_type": "markdown",
   "metadata": {},
   "source": [
    "### 足球运动员是否是出生年月相关？\n",
    "1. 全体运动员\n",
    "2. 知名运动员（80分及以上）"
   ]
  },
  {
   "cell_type": "code",
   "execution_count": null,
   "metadata": {},
   "outputs": [],
   "source": [
    "t = data[\"Birth_Date\"].str.split(\"/\", expand=True)\n",
    "# t[2].value_counts().plot(kind=\"bar\")\n",
    "# t[0].value_counts().plot(kind=\"bar\")\n",
    "# t[1].value_counts().plot(kind=\"bar\")"
   ]
  },
  {
   "cell_type": "markdown",
   "metadata": {},
   "source": [
    "### 足球运动员号码是否与位置相关？"
   ]
  },
  {
   "cell_type": "code",
   "execution_count": null,
   "metadata": {},
   "outputs": [],
   "source": [
    "# 去掉替补球员与预备队球员。\n",
    "t = data[(data[\"Club_Position\"] != \"Sub\") & (data[\"Club_Position\"] != \"Res\")]\n",
    "t.groupby([\"Club_Kit\", \"Club_Position\"]).size().sort_values(ascending=False).head(10).plot(kind=\"bar\")"
   ]
  },
  {
   "cell_type": "markdown",
   "metadata": {},
   "source": [
    "### 身高与体重是否具有相关性？"
   ]
  },
  {
   "cell_type": "code",
   "execution_count": null,
   "metadata": {},
   "outputs": [],
   "source": [
    "# 身高与体重息息相关。\n",
    "# data.plot(kind=\"scatter\", x=\"Height\", y=\"Weight\")\n",
    "# 身高与评分关联性不大。\n",
    "# data.plot(kind=\"scatter\", x=\"Height\", y=\"Rating\")"
   ]
  },
  {
   "cell_type": "markdown",
   "metadata": {},
   "source": [
    "### 哪些指标对评分的影响最大？"
   ]
  },
  {
   "cell_type": "code",
   "execution_count": null,
   "metadata": {},
   "outputs": [],
   "source": [
    "data.corr()"
   ]
  },
  {
   "cell_type": "markdown",
   "metadata": {},
   "source": [
    "### 假设我们不清楚后2列的具体含义是什么，分析该标题可能的含义。"
   ]
  },
  {
   "cell_type": "code",
   "execution_count": 84,
   "metadata": {},
   "outputs": [
    {
     "data": {
      "text/plain": [
       "<matplotlib.axes._subplots.AxesSubplot at 0x116ff6d8>"
      ]
     },
     "execution_count": 84,
     "metadata": {},
     "output_type": "execute_result"
    },
    {
     "data": {
      "image/png": "[encoded data removed]",
      "text/plain": [
       "<matplotlib.figure.Figure at 0x11622f98>"
      ]
     },
     "metadata": {},
     "output_type": "display_data"
    }
   ],
   "source": [
    "# data.head()\n",
    "data.groupby(\"Club_Position\")[\"GK_Handling\"].mean().sort_values(ascending=False).plot(kind=\"bar\")"
   ]
  },
  {
   "cell_type": "markdown",
   "metadata": {},
   "source": [
    "### 年龄与评分具有怎样的关系？"
   ]
  },
  {
   "cell_type": "code",
   "execution_count": 86,
   "metadata": {
    "scrolled": true
   },
   "outputs": [
    {
     "data": {
      "text/plain": [
       "<matplotlib.axes._subplots.AxesSubplot at 0x117de940>"
      ]
     },
     "execution_count": 86,
     "metadata": {},
     "output_type": "execute_result"
    },
    {
     "data": {
      "image/png": "[encoded data removed]",
      "text/plain": [
       "<matplotlib.figure.Figure at 0x1187bf28>"
      ]
     },
     "metadata": {},
     "output_type": "display_data"
    }
   ],
   "source": [
    "# data.plot(kind=\"scatter\", x=\"Age\", y=\"Rating\")\n",
    "# data[\"Age\"].plot(kind=\"hist\")"
   ]
  },
  {
   "cell_type": "code",
   "execution_count": 92,
   "metadata": {},
   "outputs": [
    {
     "data": {
      "text/plain": [
       "0    32\n",
       "1    29\n",
       "2    25\n",
       "3    30\n",
       "4    31\n",
       "Name: Age, dtype: int64"
      ]
     },
     "execution_count": 92,
     "metadata": {},
     "output_type": "execute_result"
    }
   ],
   "source": [
    "data[\"Age\"].head()"
   ]
  },
  {
   "cell_type": "code",
   "execution_count": 99,
   "metadata": {},
   "outputs": [
    {
     "data": {
      "text/plain": [
       "<matplotlib.axes._subplots.AxesSubplot at 0x1192e080>"
      ]
     },
     "execution_count": 99,
     "metadata": {},
     "output_type": "execute_result"
    },
    {
     "data": {
      "image/png": "[encoded data removed]",
      "text/plain": [
       "<matplotlib.figure.Figure at 0x11a16940>"
      ]
     },
     "metadata": {},
     "output_type": "display_data"
    }
   ],
   "source": [
    "t = data.copy()\n",
    "# 将连续的值切割成离散的形式。\n",
    "# 注意：cut切割的桶，区间范围与直方图有些不同。cut的区间是前开后闭的形式。(]\n",
    "# cut方法返回的值默认为我们桶的区间范围值，我们也可以通过labels属性来显式指定具体的标签。\n",
    "# pd.cut(data[\"Age\"], bins=5, labels=[\"1区间\", \"2区间\", \"3区间\", \"4区间\", \"5区间\"]).head(5)\n",
    "# cut方法，如果bins是整数类型，则区间（桶）进行等分设置，如果区间不等分，则我们可以显式设置区间的取值范围。\n",
    "# 对bins参数传递一个数组，数组来指定区间的具体值。\n",
    "t[\"Age2\"] = pd.cut(t[\"Age\"], bins=[1, 20, 30, 40, 100], labels=[\"初出茅庐\", \"快速成长\", \"当打之年\", \"衰老之年\"])\n",
    "t.groupby(\"Age2\")[\"Rating\"].mean().plot(marker=\"o\", xticks=[0, 1, 2, 3])"
   ]
  },
  {
   "cell_type": "markdown",
   "metadata": {},
   "source": [
    "## 总结"
   ]
  }
 ],
 "metadata": {
  "kernelspec": {
   "display_name": "Python [default]",
   "language": "python",
   "name": "python3"
  },
  "language_info": {
   "codemirror_mode": {
    "name": "ipython",
    "version": 3
   },
   "file_extension": ".py",
   "mimetype": "text/x-python",
   "name": "python",
   "nbconvert_exporter": "python",
   "pygments_lexer": "ipython3",
   "version": "3.7.0"
  }
 },
 "nbformat": 4,
 "nbformat_minor": 2
}
